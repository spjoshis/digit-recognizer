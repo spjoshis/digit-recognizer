{
  "nbformat": 4,
  "nbformat_minor": 0,
  "metadata": {
    "colab": {
      "name": "Digit Recognizer.ipynb",
      "provenance": [],
      "collapsed_sections": [],
      "toc_visible": true,
      "include_colab_link": true
    },
    "kernelspec": {
      "name": "python3",
      "display_name": "Python 3"
    }
  },
  "cells": [
    {
      "cell_type": "markdown",
      "metadata": {
        "id": "view-in-github",
        "colab_type": "text"
      },
      "source": [
        "<a href=\"https://colab.research.google.com/github/spjoshis/digit-recognizer/blob/master/Digit_Recognizer.ipynb\" target=\"_parent\"><img src=\"https://colab.research.google.com/assets/colab-badge.svg\" alt=\"Open In Colab\"/></a>"
      ]
    },
    {
      "cell_type": "markdown",
      "metadata": {
        "id": "PTjCu7d2cegD"
      },
      "source": [
        "# MNIST dataset (Recognize Digits)\r\n",
        "\r\n",
        "Source : [Kaggle Dataset](https://www.kaggle.com/c/digit-recognizer)\r\n",
        "\r\n",
        "MNIST (\"Modified National Institute of Standards and Technology\") is the de facto “hello world” dataset of computer vision. Since its release in 1999, this classic dataset of handwritten images has served as the basis for benchmarking classification algorithms. As new machine learning techniques emerge, MNIST remains a reliable resource for researchers and learners alike.\r\n"
      ]
    },
    {
      "cell_type": "code",
      "metadata": {
        "id": "bxgk_WWra0SV",
        "colab": {
          "base_uri": "https://localhost:8080/"
        },
        "outputId": "51601cf3-ca8b-4aa6-9a09-ac5ca44771b6"
      },
      "source": [
        "# Import packages\r\n",
        "!pip install kaggle\r\n",
        "import json\r\n",
        "import zipfile\r\n",
        "import os\r\n",
        "import pandas as pd\r\n",
        "import numpy as np\r\n",
        "import tensorflow as tf\r\n",
        "%matplotlib inline\r\n",
        "\r\n",
        "import matplotlib.image  as mpimg\r\n",
        "import matplotlib.pyplot as plt\r\n"
      ],
      "execution_count": 1,
      "outputs": [
        {
          "output_type": "stream",
          "text": [
            "Requirement already satisfied: kaggle in /usr/local/lib/python3.6/dist-packages (1.5.10)\n",
            "Requirement already satisfied: requests in /usr/local/lib/python3.6/dist-packages (from kaggle) (2.23.0)\n",
            "Requirement already satisfied: six>=1.10 in /usr/local/lib/python3.6/dist-packages (from kaggle) (1.15.0)\n",
            "Requirement already satisfied: certifi in /usr/local/lib/python3.6/dist-packages (from kaggle) (2020.12.5)\n",
            "Requirement already satisfied: python-slugify in /usr/local/lib/python3.6/dist-packages (from kaggle) (4.0.1)\n",
            "Requirement already satisfied: python-dateutil in /usr/local/lib/python3.6/dist-packages (from kaggle) (2.8.1)\n",
            "Requirement already satisfied: urllib3 in /usr/local/lib/python3.6/dist-packages (from kaggle) (1.24.3)\n",
            "Requirement already satisfied: tqdm in /usr/local/lib/python3.6/dist-packages (from kaggle) (4.41.1)\n",
            "Requirement already satisfied: idna<3,>=2.5 in /usr/local/lib/python3.6/dist-packages (from requests->kaggle) (2.10)\n",
            "Requirement already satisfied: chardet<4,>=3.0.2 in /usr/local/lib/python3.6/dist-packages (from requests->kaggle) (3.0.4)\n",
            "Requirement already satisfied: text-unidecode>=1.3 in /usr/local/lib/python3.6/dist-packages (from python-slugify->kaggle) (1.3)\n"
          ],
          "name": "stdout"
        }
      ]
    },
    {
      "cell_type": "code",
      "metadata": {
        "colab": {
          "base_uri": "https://localhost:8080/"
        },
        "id": "8k5VkPdmeDsL",
        "outputId": "b428cd2d-63b5-447a-caff-137a7da96ef4"
      },
      "source": [
        "# Import dataset\r\n",
        "api_token = {\"username\":\"gopalj\",\"key\":\"9e3277469f507dfb47b3a20d30a32b42\"}\r\n",
        "!mkdir /root/.kaggle\r\n",
        "!echo '{\"username\":\"\",\"key\":\"\"}' > /root/.kaggle/kaggle.json\r\n",
        "with open('/root/.kaggle/kaggle.json', 'w') as file:\r\n",
        "  json.dump(api_token, file)\r\n",
        "\r\n",
        "!kaggle competitions download -c digit-recognizer"
      ],
      "execution_count": 5,
      "outputs": [
        {
          "output_type": "stream",
          "text": [
            "mkdir: cannot create directory ‘/root/.kaggle’: File exists\n",
            "Warning: Your Kaggle API key is readable by other users on this system! To fix this, you can run 'chmod 600 /root/.kaggle/kaggle.json'\n",
            "Warning: Looks like you're using an outdated API Version, please consider updating (server 1.5.10 / client 1.5.4)\n",
            "Downloading train.csv.zip to /content\n",
            " 87% 8.00M/9.16M [00:00<00:00, 79.9MB/s]\n",
            "100% 9.16M/9.16M [00:00<00:00, 58.5MB/s]\n",
            "sample_submission.csv: Skipping, found more recently modified local copy (use --force to force download)\n",
            "Downloading test.csv.zip to /content\n",
            "  0% 0.00/6.09M [00:00<?, ?B/s]\n",
            "100% 6.09M/6.09M [00:00<00:00, 54.7MB/s]\n"
          ],
          "name": "stdout"
        }
      ]
    },
    {
      "cell_type": "code",
      "metadata": {
        "id": "GcD1eFAZeofY"
      },
      "source": [
        "%%bash\r\n",
        "mv /content/test.csv.zip /content/test.zip\r\n",
        "mv /content/train.csv.zip /content/train.zip"
      ],
      "execution_count": 6,
      "outputs": []
    },
    {
      "cell_type": "code",
      "metadata": {
        "id": "IP-jvmFie7LH"
      },
      "source": [
        "# Unzip saample data\r\n",
        "zipper = zipfile.ZipFile('/content/test.zip', 'r')\r\n",
        "zipper.extractall()\r\n",
        "zipper.close()\r\n",
        "\r\n",
        "zipper = zipfile.ZipFile('/content/train.zip', 'r')\r\n",
        "zipper.extractall()\r\n",
        "zipper.close()"
      ],
      "execution_count": 7,
      "outputs": []
    },
    {
      "cell_type": "code",
      "metadata": {
        "id": "7dri5Hoyf79O"
      },
      "source": [
        "# Prepare dataset\r\n",
        "test_data = pd.read_csv('/content/test.csv')\r\n",
        "train_data = pd.read_csv('/content/train.csv')\r\n",
        "\r\n",
        "# Training labels set\r\n",
        "y_train = train_data['label']\r\n",
        "x_train = train_data.drop(labels=['label'], axis=1)"
      ],
      "execution_count": 8,
      "outputs": []
    },
    {
      "cell_type": "code",
      "metadata": {
        "id": "1uT5hR8wgTiK"
      },
      "source": [
        "# Normalizing data & Reshaping the data\r\n",
        "x_train = x_train/255.0\r\n",
        "test_data = test_data/255.0\r\n",
        "\r\n",
        "x_train = x_train.values.reshape(-1,28,28,1)\r\n",
        "test_data = test_data.values.reshape(-1,28,28,1)"
      ],
      "execution_count": 9,
      "outputs": []
    },
    {
      "cell_type": "code",
      "metadata": {
        "id": "yISywYtnhqbD"
      },
      "source": [
        "from sklearn.model_selection import train_test_split\r\n",
        "\r\n",
        "X1_train,Y1_train,X2_train,Y2_train=train_test_split(x_train,y_train,test_size = 0.3, random_state=2)"
      ],
      "execution_count": 10,
      "outputs": []
    },
    {
      "cell_type": "code",
      "metadata": {
        "id": "v-EOz9x-ihBS"
      },
      "source": [
        "#Model\r\n",
        "model = tf.keras.models.Sequential([\r\n",
        "  tf.keras.layers.Conv2D(64, (3,3), activation='relu', input_shape=(28, 28, 1)),\r\n",
        "  tf.keras.layers.MaxPooling2D(2, 2),\r\n",
        "  tf.keras.layers.Conv2D(32, (3,3), activation='relu'),\r\n",
        "  tf.keras.layers.MaxPooling2D(2,2),\r\n",
        "  tf.keras.layers.Conv2D(16, (3,3), activation='relu'),\r\n",
        "  tf.keras.layers.MaxPooling2D(2,2),\r\n",
        "  tf.keras.layers.Flatten(),                      \r\n",
        "  tf.keras.layers.Dense(128, activation=tf.nn.relu),\r\n",
        "  tf.keras.layers.Dropout(0.5),\r\n",
        "  tf.keras.layers.Dense(10, activation=tf.nn.softmax)\r\n",
        "])\r\n",
        "\r\n",
        "model.compile(optimizer='adam',\r\n",
        "  loss='sparse_categorical_crossentropy',\r\n",
        "  metrics=['accuracy'])\r\n"
      ],
      "execution_count": 11,
      "outputs": []
    },
    {
      "cell_type": "code",
      "metadata": {
        "colab": {
          "base_uri": "https://localhost:8080/"
        },
        "id": "D57z1407iECm",
        "outputId": "a9d44813-ca06-44b0-e08d-ed3790edc39b"
      },
      "source": [
        "results = model.evaluate(Y1_train, Y2_train, batch_size=32)"
      ],
      "execution_count": 12,
      "outputs": [
        {
          "output_type": "stream",
          "text": [
            "394/394 [==============================] - 4s 10ms/step - loss: 2.3033 - accuracy: 0.0990\n"
          ],
          "name": "stdout"
        }
      ]
    },
    {
      "cell_type": "code",
      "metadata": {
        "colab": {
          "base_uri": "https://localhost:8080/"
        },
        "id": "QKD0fkHCjetr",
        "outputId": "5f0a4171-a50a-415b-c663-85a068fa75eb"
      },
      "source": [
        "history = model.fit(\r\n",
        "    X1_train,\r\n",
        "    X2_train,\r\n",
        "    batch_size=32,\r\n",
        "    epochs=15,\r\n",
        "    validation_data=(Y1_train, Y2_train),\r\n",
        ")"
      ],
      "execution_count": 13,
      "outputs": [
        {
          "output_type": "stream",
          "text": [
            "Epoch 1/15\n",
            "919/919 [==============================] - 36s 39ms/step - loss: 0.5278 - accuracy: 0.8288 - val_loss: 0.1717 - val_accuracy: 0.9464\n",
            "Epoch 2/15\n",
            "919/919 [==============================] - 35s 39ms/step - loss: 0.1783 - accuracy: 0.9467 - val_loss: 0.1128 - val_accuracy: 0.9652\n",
            "Epoch 3/15\n",
            "919/919 [==============================] - 35s 38ms/step - loss: 0.1321 - accuracy: 0.9604 - val_loss: 0.1040 - val_accuracy: 0.9667\n",
            "Epoch 4/15\n",
            "919/919 [==============================] - 35s 38ms/step - loss: 0.1073 - accuracy: 0.9683 - val_loss: 0.0890 - val_accuracy: 0.9729\n",
            "Epoch 5/15\n",
            "919/919 [==============================] - 35s 38ms/step - loss: 0.0896 - accuracy: 0.9737 - val_loss: 0.0842 - val_accuracy: 0.9740\n",
            "Epoch 6/15\n",
            "919/919 [==============================] - 35s 39ms/step - loss: 0.0797 - accuracy: 0.9762 - val_loss: 0.0956 - val_accuracy: 0.9707\n",
            "Epoch 7/15\n",
            "919/919 [==============================] - 36s 39ms/step - loss: 0.0721 - accuracy: 0.9776 - val_loss: 0.0936 - val_accuracy: 0.9717\n",
            "Epoch 8/15\n",
            "919/919 [==============================] - 39s 42ms/step - loss: 0.0623 - accuracy: 0.9810 - val_loss: 0.0797 - val_accuracy: 0.9779\n",
            "Epoch 9/15\n",
            "919/919 [==============================] - 37s 41ms/step - loss: 0.0580 - accuracy: 0.9819 - val_loss: 0.0807 - val_accuracy: 0.9760\n",
            "Epoch 10/15\n",
            "919/919 [==============================] - 35s 38ms/step - loss: 0.0520 - accuracy: 0.9841 - val_loss: 0.0791 - val_accuracy: 0.9790\n",
            "Epoch 11/15\n",
            "919/919 [==============================] - 35s 38ms/step - loss: 0.0477 - accuracy: 0.9855 - val_loss: 0.0795 - val_accuracy: 0.9772\n",
            "Epoch 12/15\n",
            "919/919 [==============================] - 35s 38ms/step - loss: 0.0425 - accuracy: 0.9868 - val_loss: 0.0771 - val_accuracy: 0.9781\n",
            "Epoch 13/15\n",
            "919/919 [==============================] - 35s 38ms/step - loss: 0.0391 - accuracy: 0.9876 - val_loss: 0.0791 - val_accuracy: 0.9794\n",
            "Epoch 14/15\n",
            "919/919 [==============================] - 35s 38ms/step - loss: 0.0364 - accuracy: 0.9878 - val_loss: 0.0799 - val_accuracy: 0.9801\n",
            "Epoch 15/15\n",
            "919/919 [==============================] - 35s 38ms/step - loss: 0.0329 - accuracy: 0.9895 - val_loss: 0.1001 - val_accuracy: 0.9775\n"
          ],
          "name": "stdout"
        }
      ]
    },
    {
      "cell_type": "code",
      "metadata": {
        "colab": {
          "base_uri": "https://localhost:8080/",
          "height": 563
        },
        "id": "RJoXPrMgjewY",
        "outputId": "dd1eb9e2-ced7-4dbe-9e9f-798cd0b91f83"
      },
      "source": [
        "acc = history.history['accuracy']\r\n",
        "val_acc = history.history['val_accuracy']\r\n",
        "loss = history.history['loss']\r\n",
        "val_loss = history.history['val_loss']\r\n",
        "\r\n",
        "epochs = range(len(acc)) # Get number of epochs\r\n",
        "\r\n",
        "plt.plot(epochs, acc, 'r', \"Accuracy of Training\")\r\n",
        "plt.plot(epochs, val_acc, 'b', \"Accuracy Validation\")\r\n",
        "plt.title('Training and validation accuracy')\r\n",
        "plt.figure()\r\n",
        "\r\n",
        "plt.plot(epochs, loss, 'r', \"Training Loss\")\r\n",
        "plt.plot(epochs, val_loss, 'b', \"Validation Loss\")\r\n",
        "plt.figure()\r\n"
      ],
      "execution_count": 14,
      "outputs": [
        {
          "output_type": "execute_result",
          "data": {
            "text/plain": [
              "<Figure size 432x288 with 0 Axes>"
            ]
          },
          "metadata": {
            "tags": []
          },
          "execution_count": 14
        },
        {
          "output_type": "display_data",
          "data": {
            "image/png": "[encoded data removed]",
            "text/plain": [
              "<Figure size 432x288 with 1 Axes>"
            ]
          },
          "metadata": {
            "tags": [],
            "needs_background": "light"
          }
        },
        {
          "output_type": "display_data",
          "data": {
            "image/png": "[encoded data removed]",
            "text/plain": [
              "<Figure size 432x288 with 1 Axes>"
            ]
          },
          "metadata": {
            "tags": [],
            "needs_background": "light"
          }
        },
        {
          "output_type": "display_data",
          "data": {
            "text/plain": [
              "<Figure size 432x288 with 0 Axes>"
            ]
          },
          "metadata": {
            "tags": []
          }
        }
      ]
    },
    {
      "cell_type": "code",
      "metadata": {
        "colab": {
          "base_uri": "https://localhost:8080/"
        },
        "id": "XJ2MhuCbjeyq",
        "outputId": "259066a9-84b7-43c8-e1a1-bb90ab931feb"
      },
      "source": [
        "predicted_classes = model.predict_classes(test_data)\r\n",
        "predicted_classes\r\n"
      ],
      "execution_count": 15,
      "outputs": [
        {
          "output_type": "stream",
          "text": [
            "WARNING:tensorflow:From <ipython-input-15-306b497794f8>:1: Sequential.predict_classes (from tensorflow.python.keras.engine.sequential) is deprecated and will be removed after 2021-01-01.\n",
            "Instructions for updating:\n",
            "Please use instead:* `np.argmax(model.predict(x), axis=-1)`,   if your model does multi-class classification   (e.g. if it uses a `softmax` last-layer activation).* `(model.predict(x) > 0.5).astype(\"int32\")`,   if your model does binary classification   (e.g. if it uses a `sigmoid` last-layer activation).\n"
          ],
          "name": "stdout"
        },
        {
          "output_type": "execute_result",
          "data": {
            "text/plain": [
              "array([2, 0, 9, ..., 3, 9, 2])"
            ]
          },
          "metadata": {
            "tags": []
          },
          "execution_count": 15
        }
      ]
    },
    {
      "cell_type": "code",
      "metadata": {
        "id": "9qlJzJbVnTcX"
      },
      "source": [
        "submissions = pd.DataFrame({\"ImageId\": list(range(1,len(predicted_classes)+1)),\r\n",
        "                         \"Label\": predicted_classes})\r\n",
        "submissions.to_csv(\"submission.csv\", index=False, header=True)"
      ],
      "execution_count": 16,
      "outputs": []
    },
    {
      "cell_type": "code",
      "metadata": {
        "id": "IAUmtgV7mxNR"
      },
      "source": [
        "#Kills google collab instance\r\n",
        "import os, signal\r\n",
        "os.kill(os.getpid(), signal.SIGKILL)"
      ],
      "execution_count": null,
      "outputs": []
    }
  ]
}